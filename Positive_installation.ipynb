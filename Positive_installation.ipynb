{
 "cells": [
  {
   "cell_type": "markdown",
   "id": "01858ac3",
   "metadata": {},
   "source": [
    "# Installation of POSITIVE library for mac"
   ]
  },
  {
   "cell_type": "markdown",
   "id": "e0097cdb",
   "metadata": {},
   "source": [
    "This jupyter notebooks walks you through installing the positive library, or any library for that matter, to your PYTHONPATH. \n",
    "Credit for the method presented here goes to Dr. Lionel London and the sources listed below. \n",
    "\n",
    "Make sure that the location of POSITIVE is always stored in pythonpath and system knows this"
   ]
  },
  {
   "cell_type": "markdown",
   "id": "098e2aa7",
   "metadata": {},
   "source": [
    "### Sources (in order of recommended use)\n",
    " \n",
    "1. A complete guide to installation of a module using PYTHONPATH \n",
    "   { https://bic-berkeley.github.io/psych-214-fall-2016/using_pythonpath.html }\n",
    "2. Explanation of the mac PATH variable \n",
    "   { https://youtu.be/2J58Pc2ZOAQ?si=MT60_qJdc3XU5_01 }\n",
    "3. What is the Z shell and how to use it \n",
    "   { https://mac.install.guide/terminal/configuration#:~:text=zprofile%20shell%20config%20files, setting%20the%20%24PATH%20environment%20variable. }\n",
    "   { https://mac.install.guide/terminal/zshrc-zprofile }\n",
    "4. What is a config file\n",
    "   { http://opensource.com/article/21/6/what-config-files }"
   ]
  },
  {
   "cell_type": "markdown",
   "id": "4aaac584",
   "metadata": {},
   "source": [
    "### Definitions\n",
    "\n",
    "- Environment variable: \n",
    "- Configuration file: \n",
    "- Zsh:  "
   ]
  },
  {
   "cell_type": "markdown",
   "id": "e91853bd",
   "metadata": {},
   "source": [
    "#### 1. Check where your version of POSITIVE comes from\n",
    "\n",
    "- Make sure that the positive version added to your python path comes from github via git clone ... \n",
    "\n",
    "- https://docs.github.com/en/repositories/creating-and-managing-repositories/cloning-a-repository"
   ]
  },
  {
   "cell_type": "markdown",
   "id": "a68e80d1",
   "metadata": {},
   "source": [
    "#### 2. Check what is currently in your PYTHONPATH, it will be empty if you have not added anything to it before\n",
    "\n",
    "- Run echo $PYTHONPATH in terminal"
   ]
  },
  {
   "cell_type": "markdown",
   "id": "95e0b558",
   "metadata": {},
   "source": [
    "#### 3. Open a terminal window on your mac\n",
    "\n",
    "#### 4. Open VScode (or your preferred text editor)\n",
    "\n",
    "#### 5. Open ~/.zprofile \n",
    "- Use open -e ~/.zprofile in the VScode terminal\n",
    "- Add to the bottom of the file: export PYTHONPATH=\"/My/Location/of/positive/:$PYTHONPATH\"\n",
    "\n",
    "#### 7. Save the ~/.zprofile file\n",
    "\n",
    "#### 8. Close the terminal window and restart VScode\n",
    "\n",
    "#### 9. Type in echo $PYTHONPATH again to see if the installation was successful"
   ]
  },
  {
   "cell_type": "markdown",
   "id": "3bd5df1f",
   "metadata": {},
   "source": [
    "#### 10. Use a conda environment with python 3.8/9\n",
    "\n",
    "https://docs.conda.io/projects/conda/en/latest/user-guide/tasks/manage-environments.html#creating-an-environment-with-commands\n",
    "\n",
    "https://github.com/llondon6/positive/blob/master/docs/notes/install_lalsuite_locally.md\n",
    "- Use relevant parts of steps 1,2,4 from Lionels github link above"
   ]
  },
  {
   "cell_type": "markdown",
   "id": "5690d5c2",
   "metadata": {},
   "source": []
  }
 ],
 "metadata": {
  "kernelspec": {
   "display_name": "base",
   "language": "python",
   "name": "python3"
  },
  "language_info": {
   "codemirror_mode": {
    "name": "ipython",
    "version": 3
   },
   "file_extension": ".py",
   "mimetype": "text/x-python",
   "name": "python",
   "nbconvert_exporter": "python",
   "pygments_lexer": "ipython3",
   "version": "3.11.5"
  }
 },
 "nbformat": 4,
 "nbformat_minor": 5
}
